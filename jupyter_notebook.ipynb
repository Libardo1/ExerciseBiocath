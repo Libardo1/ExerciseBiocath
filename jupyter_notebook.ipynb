{
 "cells": [
  {
   "cell_type": "markdown",
   "metadata": {},
   "source": [
    "# Exercise Biocath\n",
    "\n",
    "Attached a pickle file with 3 lists in the following order: [X_train, Y_train, X_test]. \n",
    "\n",
    "Q: Our objective is to classify, where the class 1 is the minority class and we would like to detect as many of it with as little fp. How would you tackle this question? The construction of some of the features is quit rigid, but others depend on some factors which can be reconsider or changed a bit. Which features would be most helpful to improve?"
   ]
  },
  {
   "cell_type": "markdown",
   "metadata": {},
   "source": [
    "# Discussion\n",
    "\n",
    "There is a number of ways to deal with imbalance. each technique has its pros & cons, and ob course its limit.\n",
    "First I'll do simple things, display how I understand the data, and then use the \"big guns\".\n",
    "\n",
    "##### Classification with boosting or bagging\n",
    "Bagging and Boosting are similar in that they are both ensemble techniques, where a set of weak learners are combined to create a strong learner that obtains better performance than a single one. Also, they can be used to improve the accuracy of Classification & Regression Trees.\n",
    "\n",
    "##### Undersampling\n",
    "Select a subsample of the sets of zeros such that it's size matches the set of ones. There is an obvious loss of information, unless you use a more complex framework (for a instance, I would split the first set on 9 smaller, mutually exclusive subsets, train a model on each one of them and ensemble the models).\n",
    "\n",
    "##### Oversampling\n",
    "Produce artificial ones until the proportion is 50%/50%. My previous employer used this by default. There are many frameworks for this (I think SMOTE is the most popular, but I prefer simpler tricks like Noisy PCA).\n",
    "\n",
    "##### One Class Learning\n",
    "Just assume your data has a few real points (the ones) and lots of random noise that doesn't physically exists leaked into the dataset (anything that is not a one is noise). Use an algorithm to denoise the data instead of a classification algorithm.\n",
    "\n",
    "##### Cost-Sensitive Training\n",
    "Use a asymmetric cost function to artificially balance the training process."
   ]
  },
  {
   "cell_type": "markdown",
   "metadata": {},
   "source": [
    "# Solution \n",
    "\n",
    "Importing data from file"
   ]
  },
  {
   "cell_type": "code",
   "execution_count": 1,
   "metadata": {
    "collapsed": true
   },
   "outputs": [],
   "source": [
    "import warnings\n",
    "warnings.filterwarnings('ignore')\n",
    "\n",
    "import pickle\n",
    "\n",
    "with open(\"exercise_to_sahar.p\", \"rb\") as f:\n",
    "    dump = pickle.load(f)\n",
    "    X_train_original,Y_train_original,X_test_original = dump[0], dump[1], dump[2]"
   ]
  },
  {
   "cell_type": "markdown",
   "metadata": {},
   "source": [
    "Understand the data"
   ]
  },
  {
   "cell_type": "code",
   "execution_count": 2,
   "metadata": {},
   "outputs": [
    {
     "name": "stdout",
     "output_type": "stream",
     "text": [
      "             precision    recall  f1-score   support\n",
      "\n",
      "    class 0       1.00      1.00      1.00    799300\n",
      "    class 1       1.00      1.00      1.00       700\n",
      "\n",
      "avg / total       1.00      1.00      1.00    800000\n",
      "\n"
     ]
    }
   ],
   "source": [
    "import numpy as np\n",
    "import pandas as pd\n",
    "from sklearn.metrics import classification_report\n",
    "\n",
    "def get_report(a,b):\n",
    "    target_names = ['class 0', 'class 1']\n",
    "    return classification_report(a, b, target_names=target_names)\n",
    "\n",
    "print(get_report(Y_train_original,Y_train_original))    \n"
   ]
  },
  {
   "cell_type": "markdown",
   "metadata": {},
   "source": [
    "Split the data into train&test datasets"
   ]
  },
  {
   "cell_type": "code",
   "execution_count": 3,
   "metadata": {
    "collapsed": true
   },
   "outputs": [],
   "source": [
    "from sklearn.model_selection import train_test_split\n",
    "\n",
    "X_train, X_test, y_train, y_test = train_test_split(np.array(X_train_original), np.array(Y_train_original),train_size=0.8,test_size=0.2,random_state=0)\n"
   ]
  },
  {
   "cell_type": "markdown",
   "metadata": {},
   "source": [
    "# Classification with 'non-complex' models"
   ]
  },
  {
   "cell_type": "code",
   "execution_count": 4,
   "metadata": {
    "collapsed": true
   },
   "outputs": [],
   "source": [
    "from sklearn.linear_model import LogisticRegressionCV\n",
    "from sklearn.linear_model import SGDClassifier\n",
    "\n",
    "def classify_and_report(clf):\n",
    "    clf.fit(X_train,y_train)\n",
    "    print(get_report(y_test,clf.predict(X_test)))"
   ]
  },
  {
   "cell_type": "markdown",
   "metadata": {},
   "source": [
    "##### Classification with LR"
   ]
  },
  {
   "cell_type": "code",
   "execution_count": 5,
   "metadata": {},
   "outputs": [
    {
     "name": "stdout",
     "output_type": "stream",
     "text": [
      "             precision    recall  f1-score   support\n",
      "\n",
      "    class 0       1.00      1.00      1.00    159859\n",
      "    class 1       0.85      0.29      0.43       141\n",
      "\n",
      "avg / total       1.00      1.00      1.00    160000\n",
      "\n"
     ]
    }
   ],
   "source": [
    "lrcv = LogisticRegressionCV(n_jobs=-1)\n",
    "classify_and_report(lrcv)"
   ]
  },
  {
   "cell_type": "markdown",
   "metadata": {},
   "source": [
    "##### Classification with SGD"
   ]
  },
  {
   "cell_type": "code",
   "execution_count": 6,
   "metadata": {},
   "outputs": [
    {
     "name": "stdout",
     "output_type": "stream",
     "text": [
      "             precision    recall  f1-score   support\n",
      "\n",
      "    class 0       1.00      1.00      1.00    159859\n",
      "    class 1       1.00      0.09      0.17       141\n",
      "\n",
      "avg / total       1.00      1.00      1.00    160000\n",
      "\n"
     ]
    }
   ],
   "source": [
    "sgdc = SGDClassifier(n_jobs=-1, max_iter=1000)\n",
    "classify_and_report(sgdc)"
   ]
  },
  {
   "cell_type": "markdown",
   "metadata": {},
   "source": [
    "## Classifications with Encemble\n"
   ]
  },
  {
   "cell_type": "code",
   "execution_count": 7,
   "metadata": {
    "collapsed": true
   },
   "outputs": [],
   "source": [
    "from sklearn.ensemble import RandomForestClassifier\n",
    "from sklearn.ensemble import BaggingClassifier\n",
    "from sklearn.multiclass import OneVsRestClassifier\n"
   ]
  },
  {
   "cell_type": "markdown",
   "metadata": {},
   "source": [
    "##### Classiffication with RF"
   ]
  },
  {
   "cell_type": "code",
   "execution_count": 8,
   "metadata": {},
   "outputs": [
    {
     "name": "stdout",
     "output_type": "stream",
     "text": [
      "             precision    recall  f1-score   support\n",
      "\n",
      "    class 0       1.00      1.00      1.00    159859\n",
      "    class 1       0.83      0.34      0.48       141\n",
      "\n",
      "avg / total       1.00      1.00      1.00    160000\n",
      "\n"
     ]
    }
   ],
   "source": [
    "rfc = RandomForestClassifier(n_jobs=-1,warm_start=True)\n",
    "classify_and_report(rfc)"
   ]
  },
  {
   "cell_type": "markdown",
   "metadata": {},
   "source": [
    "##### Classiffication with RF & Bagging"
   ]
  },
  {
   "cell_type": "code",
   "execution_count": 9,
   "metadata": {},
   "outputs": [
    {
     "name": "stdout",
     "output_type": "stream",
     "text": [
      "             precision    recall  f1-score   support\n",
      "\n",
      "    class 0       1.00      1.00      1.00    159859\n",
      "    class 1       0.91      0.14      0.25       141\n",
      "\n",
      "avg / total       1.00      1.00      1.00    160000\n",
      "\n"
     ]
    }
   ],
   "source": [
    "n_estimators = 10\n",
    "\n",
    "clf = OneVsRestClassifier(BaggingClassifier(rfc, max_samples=1.0 / n_estimators, n_estimators=n_estimators))\n",
    "classify_and_report(clf)"
   ]
  },
  {
   "cell_type": "markdown",
   "metadata": {},
   "source": [
    "##### Classiffication with xgboost"
   ]
  },
  {
   "cell_type": "code",
   "execution_count": 10,
   "metadata": {},
   "outputs": [
    {
     "name": "stdout",
     "output_type": "stream",
     "text": [
      "             precision    recall  f1-score   support\n",
      "\n",
      "    class 0       1.00      1.00      1.00    159859\n",
      "    class 1       0.88      0.10      0.18       141\n",
      "\n",
      "avg / total       1.00      1.00      1.00    160000\n",
      "\n"
     ]
    }
   ],
   "source": [
    "from xgboost import XGBClassifier\n",
    "\n",
    "xgb = XGBClassifier(n_jobs=-1,max_delta_step=0.1)\n",
    "classify_and_report(xgb)"
   ]
  },
  {
   "cell_type": "markdown",
   "metadata": {},
   "source": [
    "# Feature Importance\n",
    "of course there is an different importance for each feature.  \n",
    "let's have a look"
   ]
  },
  {
   "cell_type": "code",
   "execution_count": 11,
   "metadata": {},
   "outputs": [
    {
     "data": {
      "image/png": "[encoded data removed]",
      "text/plain": [
       "<matplotlib.figure.Figure at 0x19900018710>"
      ]
     },
     "metadata": {},
     "output_type": "display_data"
    }
   ],
   "source": [
    "import matplotlib.pyplot as plt\n",
    "%matplotlib inline\n",
    "\n",
    "importances = rfc.feature_importances_\n",
    "estimators = rfc.estimators_\n",
    "num_features = rfc.n_features_\n",
    "\n",
    "# std = np.std([importances for tree in estimators],axis=0)\n",
    "indices = np.argsort(importances)\n",
    "\n",
    "plt.figure()\n",
    "plt.title(\"Feature importances\")\n",
    "plt.barh( range(num_features), importances[indices],color=\"r\",align=\"center\")\n",
    "         \n",
    "plt.yticks( range(num_features), indices)\n",
    "plt.show()"
   ]
  },
  {
   "cell_type": "code",
   "execution_count": 27,
   "metadata": {},
   "outputs": [
    {
     "data": {
      "text/html": [
       "<div>\n",
       "<style>\n",
       "    .dataframe thead tr:only-child th {\n",
       "        text-align: right;\n",
       "    }\n",
       "\n",
       "    .dataframe thead th {\n",
       "        text-align: left;\n",
       "    }\n",
       "\n",
       "    .dataframe tbody tr th {\n",
       "        vertical-align: top;\n",
       "    }\n",
       "</style>\n",
       "<table border=\"1\" class=\"dataframe\">\n",
       "  <thead>\n",
       "    <tr style=\"text-align: right;\">\n",
       "      <th></th>\n",
       "      <th>Importance</th>\n",
       "    </tr>\n",
       "  </thead>\n",
       "  <tbody>\n",
       "    <tr>\n",
       "      <th>6</th>\n",
       "      <td>0.097769</td>\n",
       "    </tr>\n",
       "    <tr>\n",
       "      <th>54</th>\n",
       "      <td>0.070013</td>\n",
       "    </tr>\n",
       "    <tr>\n",
       "      <th>1</th>\n",
       "      <td>0.048785</td>\n",
       "    </tr>\n",
       "    <tr>\n",
       "      <th>41</th>\n",
       "      <td>0.048651</td>\n",
       "    </tr>\n",
       "    <tr>\n",
       "      <th>27</th>\n",
       "      <td>0.045247</td>\n",
       "    </tr>\n",
       "  </tbody>\n",
       "</table>\n",
       "</div>"
      ],
      "text/plain": [
       "    Importance\n",
       "6     0.097769\n",
       "54    0.070013\n",
       "1     0.048785\n",
       "41    0.048651\n",
       "27    0.045247"
      ]
     },
     "execution_count": 27,
     "metadata": {},
     "output_type": "execute_result"
    }
   ],
   "source": [
    "number_of_feature_to_print = 5\n",
    "importance = pd.DataFrame(importances, index=range(num_features),columns=[\"Importance\"])\n",
    "importance.nlargest(number_of_feature_to_print,'Importance')"
   ]
  },
  {
   "cell_type": "markdown",
   "metadata": {},
   "source": [
    "there is a big difference between the feature. and these 5 features have the most impact on the data."
   ]
  },
  {
   "cell_type": "markdown",
   "metadata": {},
   "source": [
    "# Weighted Sample Classes\n",
    "increace importance of the minory class."
   ]
  },
  {
   "cell_type": "code",
   "execution_count": 28,
   "metadata": {
    "collapsed": true
   },
   "outputs": [],
   "source": [
    "sample_weights = np.array([1 if i == 0 else 5 for i in y_train])\n",
    "\n",
    "def classify_and_report_weighted(clf):\n",
    "    clf.fit(X_train,y_train,sample_weight=sample_weights)\n",
    "    print(get_report(y_test,clf.predict(X_test)))"
   ]
  },
  {
   "cell_type": "code",
   "execution_count": 29,
   "metadata": {},
   "outputs": [
    {
     "name": "stdout",
     "output_type": "stream",
     "text": [
      "             precision    recall  f1-score   support\n",
      "\n",
      "    class 0       1.00      1.00      1.00    159859\n",
      "    class 1       0.75      0.33      0.46       141\n",
      "\n",
      "avg / total       1.00      1.00      1.00    160000\n",
      "\n"
     ]
    }
   ],
   "source": [
    "rfc_weighted = RandomForestClassifier(n_jobs=-1,warm_start=True)\n",
    "classify_and_report_weighted(rfc_weighted)"
   ]
  },
  {
   "cell_type": "code",
   "execution_count": 30,
   "metadata": {},
   "outputs": [
    {
     "name": "stdout",
     "output_type": "stream",
     "text": [
      "             precision    recall  f1-score   support\n",
      "\n",
      "    class 0       1.00      1.00      1.00    159859\n",
      "    class 1       0.90      0.13      0.23       141\n",
      "\n",
      "avg / total       1.00      1.00      1.00    160000\n",
      "\n"
     ]
    }
   ],
   "source": [
    "xgb_weighted = XGBClassifier(n_jobs=-1,max_delta_step=0.1)\n",
    "classify_and_report_weighted(xgb_weighted)"
   ]
  },
  {
   "cell_type": "markdown",
   "metadata": {},
   "source": [
    "Got bettter results - but not good enough!"
   ]
  },
  {
   "cell_type": "markdown",
   "metadata": {},
   "source": [
    "# Split techniques"
   ]
  },
  {
   "cell_type": "markdown",
   "metadata": {},
   "source": [
    "I could use split techniques and try to work around the imbalanced.  \n",
    "but UnderSampling and OverSampling techniques will probably have higher percision&recall, due to the small proportion of the classes, and the very small amount of samples of the minority class."
   ]
  },
  {
   "cell_type": "markdown",
   "metadata": {},
   "source": [
    "# with Imbalance Learn package\n",
    "\n",
    "Using a scatter plot od 2D to better understand the data and the classes.  \n",
    "Will try the use of sampling techniques to make the data less imbalanced, and then check if is had a good effect on the classification task.   \n",
    "(BTD randomize concept won't work obviously)\n"
   ]
  },
  {
   "cell_type": "code",
   "execution_count": 33,
   "metadata": {
    "collapsed": true
   },
   "outputs": [],
   "source": [
    "from matplotlib import pyplot as plt\n",
    "import pandas as pd\n",
    "import imblearn\n",
    "\n",
    "df = pd.DataFrame(X_train_original)\n",
    "df['target'] = Y_train_original\n",
    "\n",
    "def plot_2d_space(X, y, label='Classes'):   \n",
    "    colors = ['#1F77B4', '#FF7F0E']\n",
    "    markers = ['o', 's']\n",
    "    for l, c, m in zip(np.unique(y), colors, markers):\n",
    "        plt.scatter(\n",
    "            X[y==l, 0],\n",
    "            X[y==l, 1],\n",
    "            c=c, label=l, marker=m\n",
    "        )\n",
    "    plt.title(label)\n",
    "    plt.legend(loc='upper right')\n",
    "    plt.show()"
   ]
  },
  {
   "cell_type": "code",
   "execution_count": 34,
   "metadata": {},
   "outputs": [
    {
     "name": "stdout",
     "output_type": "stream",
     "text": [
      "0    799300\n",
      "1       700\n",
      "Name: target, dtype: int64\n"
     ]
    }
   ],
   "source": [
    "print(df.target.value_counts())"
   ]
  },
  {
   "cell_type": "markdown",
   "metadata": {},
   "source": [
    "#### Reduce to 2D\n",
    "Because the dataset has many features and our graphs will be 2D,  \n",
    "I'll use dimension reduction on the features using Principal Component Analysis(PCA):"
   ]
  },
  {
   "cell_type": "code",
   "execution_count": 35,
   "metadata": {},
   "outputs": [
    {
     "data": {
      "image/png": "[encoded data removed]",
      "text/plain": [
       "<matplotlib.figure.Figure at 0x19902a42780>"
      ]
     },
     "metadata": {},
     "output_type": "display_data"
    }
   ],
   "source": [
    "from sklearn.decomposition import PCA\n",
    "\n",
    "pca = PCA(n_components=2)\n",
    "X = pca.fit_transform(df.loc[:, df.columns != 'target'])\n",
    "y = df.target\n",
    "\n",
    "plot_2d_space(X, y, 'Imbalanced dataset (2 PCA components)')"
   ]
  },
  {
   "cell_type": "markdown",
   "metadata": {},
   "source": [
    "##### will split the data as always..."
   ]
  },
  {
   "cell_type": "code",
   "execution_count": 36,
   "metadata": {},
   "outputs": [
    {
     "name": "stdout",
     "output_type": "stream",
     "text": [
      "             precision    recall  f1-score   support\n",
      "\n",
      "    class 0       1.00      1.00      1.00    639441\n",
      "    class 1       1.00      1.00      1.00       559\n",
      "\n",
      "avg / total       1.00      1.00      1.00    640000\n",
      "\n"
     ]
    }
   ],
   "source": [
    "X_imb_train, X_imb_test, y_imb_train, y_imb_test = train_test_split(X, y,train_size=0.8,test_size=0.2,random_state=0)\n",
    "\n",
    "print(get_report(y_imb_train,y_imb_train))"
   ]
  },
  {
   "cell_type": "markdown",
   "metadata": {},
   "source": [
    "### Under-Sampling with TomekLinks"
   ]
  },
  {
   "cell_type": "code",
   "execution_count": 39,
   "metadata": {},
   "outputs": [
    {
     "data": {
      "image/png": "[encoded data removed]",
      "text/plain": [
       "<matplotlib.figure.Figure at 0x19905ce3780>"
      ]
     },
     "metadata": {},
     "output_type": "display_data"
    }
   ],
   "source": [
    "from imblearn.under_sampling import TomekLinks\n",
    "\n",
    "tl = TomekLinks(return_indices=False, ratio='majority')\n",
    "\n",
    "X_tl, y_tl = tl.fit_sample(X_imb_train, y_imb_train)\n",
    "\n",
    "plot_2d_space(X_tl, y_tl, 'Tomek links under-sampling')"
   ]
  },
  {
   "cell_type": "code",
   "execution_count": 40,
   "metadata": {},
   "outputs": [
    {
     "name": "stdout",
     "output_type": "stream",
     "text": [
      "             precision    recall  f1-score   support\n",
      "\n",
      "    class 0       1.00      1.00      1.00    159859\n",
      "    class 1       0.43      0.09      0.15       141\n",
      "\n",
      "avg / total       1.00      1.00      1.00    160000\n",
      "\n"
     ]
    }
   ],
   "source": [
    "from sklearn.ensemble import RandomForestClassifier\n",
    "sample_weights = np.array([1 if i == 0 else 5 for i in y_tl])\n",
    "\n",
    "rfc_weighted_balanced = RandomForestClassifier(n_jobs=-1,warm_start=True)\n",
    "rfc_weighted_balanced.fit(X_tl,y_tl,sample_weight=sample_weights)\n",
    "\n",
    "print(get_report(y_imb_test,rfc_weighted_balanced.predict(X_imb_test)))"
   ]
  },
  {
   "cell_type": "markdown",
   "metadata": {},
   "source": [
    "Not good. lets try somthing else..."
   ]
  },
  {
   "cell_type": "markdown",
   "metadata": {},
   "source": [
    "### Over-sampling followed by under-sampling\n",
    "\n",
    "~ Over-sampling: SMOTE  \n",
    "~ Under-sampling: Tomek links"
   ]
  },
  {
   "cell_type": "code",
   "execution_count": 41,
   "metadata": {},
   "outputs": [
    {
     "name": "stderr",
     "output_type": "stream",
     "text": [
      "C:\\Users\\SaharMilis\\Anaconda3\\lib\\site-packages\\imblearn\\utils\\deprecation.py:50: DeprecationWarning: 'k' is deprecated from 0.2 and will be removed in 0.4. Use 'k_neighbors' instead.\n",
      "  category=DeprecationWarning)\n",
      "C:\\Users\\SaharMilis\\Anaconda3\\lib\\site-packages\\imblearn\\utils\\deprecation.py:50: DeprecationWarning: 'm' is deprecated from 0.2 and will be removed in 0.4. Use 'm_neighbors' instead.\n",
      "  category=DeprecationWarning)\n"
     ]
    },
    {
     "data": {
      "image/png": "[encoded data removed]",
      "text/plain": [
       "<matplotlib.figure.Figure at 0x19905d7b780>"
      ]
     },
     "metadata": {},
     "output_type": "display_data"
    }
   ],
   "source": [
    "from imblearn.combine import SMOTETomek\n",
    "\n",
    "smt = SMOTETomek(ratio='minority',n_jobs=-1)\n",
    "X_smt, y_smt = smt.fit_sample(X_imb_train, y_imb_train)\n",
    "\n",
    "plot_2d_space(X_smt, y_smt, 'SMOTE + Tomek links')"
   ]
  },
  {
   "cell_type": "code",
   "execution_count": 42,
   "metadata": {},
   "outputs": [
    {
     "name": "stdout",
     "output_type": "stream",
     "text": [
      "             precision    recall  f1-score   support\n",
      "\n",
      "    class 0       1.00      1.00      1.00    639082\n",
      "    class 1       1.00      1.00      1.00    639082\n",
      "\n",
      "avg / total       1.00      1.00      1.00   1278164\n",
      "\n",
      "             precision    recall  f1-score   support\n",
      "\n",
      "    class 0       0.99      0.99      0.99    639082\n",
      "    class 1       0.99      0.99      0.99    639082\n",
      "\n",
      "avg / total       0.99      0.99      0.99   1278164\n",
      "\n"
     ]
    }
   ],
   "source": [
    "sample_weights = np.array([1 if i == 0 else 5 for i in y_smt])\n",
    "\n",
    "rfc_weighted_balanced = RandomForestClassifier(n_jobs=-1,warm_start=True)\n",
    "rfc_weighted_balanced.fit(X_smt,y_smt,sample_weight=sample_weights)\n",
    "\n",
    "print(get_report(y_smt,y_smt))\n",
    "print(get_report(y_smt,rfc_weighted_balanced.predict(X_smt)))"
   ]
  },
  {
   "cell_type": "markdown",
   "metadata": {},
   "source": [
    "###### Success!"
   ]
  },
  {
   "cell_type": "markdown",
   "metadata": {},
   "source": [
    "# Prediction\n",
    "\n",
    "predict the X_test from the objective.\n",
    "\n"
   ]
  },
  {
   "cell_type": "code",
   "execution_count": 48,
   "metadata": {},
   "outputs": [],
   "source": [
    "model = rfc_weighted_balanced\n",
    "trans = pca\n",
    "\n",
    "def predict_classify(X):\n",
    "        return model.predict(trans.transform(X))    \n",
    "    "
   ]
  },
  {
   "cell_type": "code",
   "execution_count": 50,
   "metadata": {},
   "outputs": [],
   "source": [
    "y_predict = predict_classify(X_test_original)"
   ]
  },
  {
   "cell_type": "markdown",
   "metadata": {},
   "source": [
    "### I'm a pickle"
   ]
  },
  {
   "cell_type": "code",
   "execution_count": 53,
   "metadata": {},
   "outputs": [],
   "source": [
    "with open('predict.pickle', 'wb') as handle:\n",
    "    pickle.dump(y_predict,handle)"
   ]
  }
 ],
 "metadata": {
  "kernelspec": {
   "display_name": "Python 3",
   "language": "python",
   "name": "python3"
  },
  "language_info": {
   "codemirror_mode": {
    "name": "ipython",
    "version": 3
   },
   "file_extension": ".py",
   "mimetype": "text/x-python",
   "name": "python",
   "nbconvert_exporter": "python",
   "pygments_lexer": "ipython3",
   "version": "3.5.4"
  }
 },
 "nbformat": 4,
 "nbformat_minor": 2
}
